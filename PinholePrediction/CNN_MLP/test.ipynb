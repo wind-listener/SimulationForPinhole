{
 "cells": [
  {
   "cell_type": "code",
   "execution_count": 1,
   "id": "initial_id",
   "metadata": {
    "collapsed": true,
    "ExecuteTime": {
     "end_time": "2024-02-28T08:41:35.409510400Z",
     "start_time": "2024-02-28T08:41:35.399496500Z"
    }
   },
   "outputs": [
    {
     "name": "stdout",
     "output_type": "stream",
     "text": [
      "日期和时间部分: 2024-01-04_14-15-37\n"
     ]
    }
   ],
   "source": [
    "import os\n",
    "\n",
    "model_path = 'MLPDataset/models/mlp_model_2024-01-04_14-15-37.pkl'\n",
    "\n",
    "# 使用字符串切片获取日期和时间部分\n",
    "date_time_part = os.path.basename(model_path)[10:-4]\n",
    "\n",
    "print(f\"日期和时间部分: {date_time_part}\")"
   ]
  },
  {
   "cell_type": "code",
   "outputs": [],
   "source": [],
   "metadata": {
    "collapsed": false,
    "ExecuteTime": {
     "end_time": "2024-02-28T08:41:35.442022600Z",
     "start_time": "2024-02-28T08:41:35.408508300Z"
    }
   },
   "id": "a2578e2e377d3efa",
   "execution_count": 1
  }
 ],
 "metadata": {
  "kernelspec": {
   "display_name": "Python 3",
   "language": "python",
   "name": "python3"
  },
  "language_info": {
   "codemirror_mode": {
    "name": "ipython",
    "version": 2
   },
   "file_extension": ".py",
   "mimetype": "text/x-python",
   "name": "python",
   "nbconvert_exporter": "python",
   "pygments_lexer": "ipython2",
   "version": "2.7.6"
  }
 },
 "nbformat": 4,
 "nbformat_minor": 5
}
