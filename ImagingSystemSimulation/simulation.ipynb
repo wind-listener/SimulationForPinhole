{
 "cells": [
  {
   "cell_type": "markdown",
   "id": "d3203aa4dadbce95",
   "metadata": {
    "collapsed": false
   },
   "source": [
    "# 关于针孔成像的仿真"
   ]
  },
  {
   "cell_type": "code",
   "execution_count": 3,
   "id": "initial_id",
   "metadata": {
    "collapsed": true,
    "ExecuteTime": {
     "end_time": "2024-02-28T09:19:51.145759100Z",
     "start_time": "2024-02-28T09:19:46.901093100Z"
    }
   },
   "outputs": [
    {
     "name": "stdout",
     "output_type": "stream",
     "text": [
      "Lambda = 5.0000E-07   Throughput = 1.00\n"
     ]
    },
    {
     "ename": "ImportError",
     "evalue": "Unable to run pinhole prescription. Stopping.",
     "output_type": "error",
     "traceback": [
      "\u001B[1;31m---------------------------------------------------------------------------\u001B[0m",
      "\u001B[1;31mModuleNotFoundError\u001B[0m                       Traceback (most recent call last)",
      "File \u001B[1;32mE:\\WPSSync\\Projects\\SimulationForPinhole\\proper\\prop_run.py:136\u001B[0m, in \u001B[0;36mprop_run\u001B[1;34m(routine_name, lambda0, gridsize, **kwargs)\u001B[0m\n\u001B[0;32m    135\u001B[0m \u001B[38;5;28;01mtry\u001B[39;00m:\n\u001B[1;32m--> 136\u001B[0m     module \u001B[38;5;241m=\u001B[39m \u001B[43mimportlib\u001B[49m\u001B[38;5;241;43m.\u001B[39;49m\u001B[43mimport_module\u001B[49m\u001B[43m(\u001B[49m\u001B[43mroutine_name\u001B[49m\u001B[43m)\u001B[49m\n\u001B[0;32m    137\u001B[0m \u001B[38;5;28;01mexcept\u001B[39;00m \u001B[38;5;167;01mImportError\u001B[39;00m:\n",
      "File \u001B[1;32mD:\\Softwares\\Development\\anaconda3\\envs\\zzm\\lib\\importlib\\__init__.py:126\u001B[0m, in \u001B[0;36mimport_module\u001B[1;34m(name, package)\u001B[0m\n\u001B[0;32m    125\u001B[0m         level \u001B[38;5;241m+\u001B[39m\u001B[38;5;241m=\u001B[39m \u001B[38;5;241m1\u001B[39m\n\u001B[1;32m--> 126\u001B[0m \u001B[38;5;28;01mreturn\u001B[39;00m \u001B[43m_bootstrap\u001B[49m\u001B[38;5;241;43m.\u001B[39;49m\u001B[43m_gcd_import\u001B[49m\u001B[43m(\u001B[49m\u001B[43mname\u001B[49m\u001B[43m[\u001B[49m\u001B[43mlevel\u001B[49m\u001B[43m:\u001B[49m\u001B[43m]\u001B[49m\u001B[43m,\u001B[49m\u001B[43m \u001B[49m\u001B[43mpackage\u001B[49m\u001B[43m,\u001B[49m\u001B[43m \u001B[49m\u001B[43mlevel\u001B[49m\u001B[43m)\u001B[49m\n",
      "File \u001B[1;32m<frozen importlib._bootstrap>:1050\u001B[0m, in \u001B[0;36m_gcd_import\u001B[1;34m(name, package, level)\u001B[0m\n",
      "File \u001B[1;32m<frozen importlib._bootstrap>:1027\u001B[0m, in \u001B[0;36m_find_and_load\u001B[1;34m(name, import_)\u001B[0m\n",
      "File \u001B[1;32m<frozen importlib._bootstrap>:1004\u001B[0m, in \u001B[0;36m_find_and_load_unlocked\u001B[1;34m(name, import_)\u001B[0m\n",
      "\u001B[1;31mModuleNotFoundError\u001B[0m: No module named 'pinhole'",
      "\nDuring handling of the above exception, another exception occurred:\n",
      "\u001B[1;31mImportError\u001B[0m                               Traceback (most recent call last)",
      "Cell \u001B[1;32mIn[3], line 12\u001B[0m\n\u001B[0;32m      9\u001B[0m wavelength \u001B[38;5;241m=\u001B[39m \u001B[38;5;241m0.5\u001B[39m  \u001B[38;5;66;03m# 波长 0.5um\u001B[39;00m\n\u001B[0;32m     10\u001B[0m hole_diameter \u001B[38;5;241m=\u001B[39m \u001B[38;5;241m10e-6\u001B[39m  \u001B[38;5;66;03m# 针孔尺寸 10um\u001B[39;00m\n\u001B[1;32m---> 12\u001B[0m (wfo, sampling) \u001B[38;5;241m=\u001B[39m \u001B[43mproper\u001B[49m\u001B[38;5;241;43m.\u001B[39;49m\u001B[43mprop_run\u001B[49m\u001B[43m(\u001B[49m\u001B[38;5;124;43m'\u001B[39;49m\u001B[38;5;124;43mpinhole\u001B[39;49m\u001B[38;5;124;43m'\u001B[39;49m\u001B[43m,\u001B[49m\u001B[43m \u001B[49m\u001B[43mwavelength\u001B[49m\u001B[43m,\u001B[49m\u001B[43m \u001B[49m\u001B[38;5;241;43m2048\u001B[39;49m\u001B[43m,\u001B[49m\u001B[43m \u001B[49m\u001B[43mPASSVALUE\u001B[49m\u001B[38;5;241;43m=\u001B[39;49m\u001B[43m{\u001B[49m\u001B[38;5;124;43m'\u001B[39;49m\u001B[38;5;124;43mhole_diameter\u001B[39;49m\u001B[38;5;124;43m'\u001B[39;49m\u001B[43m:\u001B[49m\u001B[43m \u001B[49m\u001B[43mhole_diameter\u001B[49m\u001B[43m}\u001B[49m\u001B[43m)\u001B[49m\n",
      "File \u001B[1;32mE:\\WPSSync\\Projects\\SimulationForPinhole\\proper\\prop_run.py:138\u001B[0m, in \u001B[0;36mprop_run\u001B[1;34m(routine_name, lambda0, gridsize, **kwargs)\u001B[0m\n\u001B[0;32m    136\u001B[0m     module \u001B[38;5;241m=\u001B[39m importlib\u001B[38;5;241m.\u001B[39mimport_module(routine_name)\n\u001B[0;32m    137\u001B[0m \u001B[38;5;28;01mexcept\u001B[39;00m \u001B[38;5;167;01mImportError\u001B[39;00m:\n\u001B[1;32m--> 138\u001B[0m     \u001B[38;5;28;01mraise\u001B[39;00m \u001B[38;5;167;01mImportError\u001B[39;00m(\u001B[38;5;124m\"\u001B[39m\u001B[38;5;124mUnable to run \u001B[39m\u001B[38;5;132;01m%s\u001B[39;00m\u001B[38;5;124m prescription. Stopping.\u001B[39m\u001B[38;5;124m\"\u001B[39m \u001B[38;5;241m%\u001B[39mroutine_name)\n\u001B[0;32m    140\u001B[0m f1 \u001B[38;5;241m=\u001B[39m os\u001B[38;5;241m.\u001B[39mpath\u001B[38;5;241m.\u001B[39mbasename(module\u001B[38;5;241m.\u001B[39m\u001B[38;5;18m__file__\u001B[39m)\n\u001B[0;32m    141\u001B[0m f2 \u001B[38;5;241m=\u001B[39m os\u001B[38;5;241m.\u001B[39mpath\u001B[38;5;241m.\u001B[39msplitext(f1)[\u001B[38;5;241m0\u001B[39m]\n",
      "\u001B[1;31mImportError\u001B[0m: Unable to run pinhole prescription. Stopping."
     ]
    }
   ],
   "source": [
    "import numpy as np\n",
    "import matplotlib.pyplot as plt\n",
    "from proper import *\n",
    "from matplotlib.colors import ListedColormap\n",
    "\n",
    "plt.rcParams['font.sans-serif'] = ['SimHei']  # 使用黑体或其他支持中文的字体\n",
    "plt.rcParams['axes.unicode_minus'] = False  # 用于正常显示负号\n",
    "\n",
    "wavelength = 0.5  # 波长 0.5um\n",
    "hole_diameter = 10e-6  # 针孔尺寸 10um\n",
    "\n",
    "(wfo, sampling) = proper.prop_run('pinhole', wavelength, 2048, PASSVALUE={'hole_diameter': hole_diameter})"
   ]
  },
  {
   "cell_type": "markdown",
   "id": "32cb48a8d3abbfaa",
   "metadata": {
    "collapsed": false
   },
   "source": [
    "## 绘图"
   ]
  },
  {
   "cell_type": "code",
   "execution_count": 4,
   "id": "3fde084589376a58",
   "metadata": {
    "collapsed": false,
    "ExecuteTime": {
     "end_time": "2024-02-28T09:19:51.297780200Z",
     "start_time": "2024-02-28T09:19:51.173266100Z"
    }
   },
   "outputs": [
    {
     "ename": "NameError",
     "evalue": "name 'sampling' is not defined",
     "output_type": "error",
     "traceback": [
      "\u001B[1;31m---------------------------------------------------------------------------\u001B[0m",
      "\u001B[1;31mNameError\u001B[0m                                 Traceback (most recent call last)",
      "Cell \u001B[1;32mIn[4], line 2\u001B[0m\n\u001B[0;32m      1\u001B[0m \u001B[38;5;66;03m# 显示光场结果\u001B[39;00m\n\u001B[1;32m----> 2\u001B[0m text \u001B[38;5;241m=\u001B[39m \u001B[38;5;124mf\u001B[39m\u001B[38;5;124m'\u001B[39m\u001B[38;5;124mWavelength: \u001B[39m\u001B[38;5;132;01m{\u001B[39;00mwavelength\u001B[38;5;132;01m}\u001B[39;00m\u001B[38;5;124m um\u001B[39m\u001B[38;5;130;01m\\n\u001B[39;00m\u001B[38;5;124mHole Diameter: \u001B[39m\u001B[38;5;132;01m{\u001B[39;00mhole_diameter\u001B[38;5;132;01m}\u001B[39;00m\u001B[38;5;124m m\u001B[39m\u001B[38;5;130;01m\\n\u001B[39;00m\u001B[38;5;124mPixel Size: \u001B[39m\u001B[38;5;132;01m{\u001B[39;00m\u001B[43msampling\u001B[49m\u001B[38;5;132;01m}\u001B[39;00m\u001B[38;5;124m m/pixel\u001B[39m\u001B[38;5;124m'\u001B[39m\n\u001B[0;32m      3\u001B[0m plt\u001B[38;5;241m.\u001B[39mrcParams[\u001B[38;5;124m'\u001B[39m\u001B[38;5;124mfont.sans-serif\u001B[39m\u001B[38;5;124m'\u001B[39m] \u001B[38;5;241m=\u001B[39m [\u001B[38;5;124m'\u001B[39m\u001B[38;5;124mSimHei\u001B[39m\u001B[38;5;124m'\u001B[39m]  \u001B[38;5;66;03m# 使用SimHei字体（可根据需要选择其他字体）\u001B[39;00m\n\u001B[0;32m      4\u001B[0m plt\u001B[38;5;241m.\u001B[39mrcParams[\u001B[38;5;124m'\u001B[39m\u001B[38;5;124maxes.unicode_minus\u001B[39m\u001B[38;5;124m'\u001B[39m] \u001B[38;5;241m=\u001B[39m \u001B[38;5;28;01mFalse\u001B[39;00m  \u001B[38;5;66;03m# 用于处理负号显示的问题\u001B[39;00m\n",
      "\u001B[1;31mNameError\u001B[0m: name 'sampling' is not defined"
     ]
    }
   ],
   "source": [
    "# 显示光场结果\n",
    "text = f'Wavelength: {wavelength} um\\nHole Diameter: {hole_diameter} m\\nPixel Size: {sampling} m/pixel'\n",
    "plt.rcParams['font.sans-serif'] = ['SimHei']  # 使用SimHei字体（可根据需要选择其他字体）\n",
    "plt.rcParams['axes.unicode_minus'] = False  # 用于处理负号显示的问题\n",
    "\n",
    "fig = plt.figure(figsize=(30, 10), dpi=100)\n",
    "plt.subplot(131)\n",
    "# 创建坐标网格\n",
    "x = np.linspace(-wfo.shape[1] // 2, wfo.shape[1] // 2, wfo.shape[1]) * sampling\n",
    "y = np.linspace(-wfo.shape[0] // 2, wfo.shape[0] // 2, wfo.shape[0]) * sampling\n",
    "# 调整坐标原点，使其位于图像中心\n",
    "x -= x.mean()\n",
    "y -= y.mean()\n",
    "# 绘制图像\n",
    "plt.imshow(wfo, cmap='gray', extent=[x.min(), x.max(), y.min(), y.max()], origin='lower')\n",
    "plt.xlabel('X (meters)')\n",
    "plt.ylabel('Y (meters)')\n",
    "plt.title('成像仿真\\n' + text)\n",
    "plt.colorbar()\n",
    "\n",
    "plt.subplot(132)\n",
    "plt.imshow(wfo, cmap='gray', extent=[x.min(), x.max(), y.min(), y.max()], origin='lower')\n",
    "plt.xlabel('X (meters)')\n",
    "plt.ylabel('Y (meters)')\n",
    "plt.title('成像仿真\\n' + \"红圈直径为30mm\")\n",
    "plt.colorbar()\n",
    "# 添加一个圆心在图像中心，直径为30mm的圆\n",
    "circle = plt.Circle((0, 0), 30e-3 / 2, color='red', fill=False)\n",
    "plt.gca().add_patch(circle)\n",
    "\n",
    "ax = plt.subplot(133, projection='3d')\n",
    "from mpl_toolkits.mplot3d import Axes3D\n",
    "\n",
    "# 创建一个网格\n",
    "x = np.linspace(-wfo.shape[0] // 2, wfo.shape[0] // 2, wfo.shape[0])\n",
    "y = np.linspace(-wfo.shape[1] // 2, wfo.shape[1] // 2, wfo.shape[1])\n",
    "X, Y = np.meshgrid(x, y)\n",
    "# 绘制3D图\n",
    "surf = ax.plot_surface(X, Y, wfo, cmap='viridis')\n",
    "# 添加颜色栏\n",
    "fig.colorbar(surf)\n",
    "\n",
    "# 调整子图之间的间距\n",
    "plt.tight_layout()\n",
    "# plt.savefig('my_figure.png', dpi=800)  # 保存图像为PNG文件，分辨率为800dpi\n",
    "plt.show()"
   ]
  },
  {
   "cell_type": "code",
   "execution_count": 5,
   "id": "9394591c48fd63ef",
   "metadata": {
    "collapsed": false,
    "ExecuteTime": {
     "end_time": "2024-02-28T09:19:51.366260500Z",
     "start_time": "2024-02-28T09:19:51.301779800Z"
    }
   },
   "outputs": [
    {
     "ename": "NameError",
     "evalue": "name 'wfo' is not defined",
     "output_type": "error",
     "traceback": [
      "\u001B[1;31m---------------------------------------------------------------------------\u001B[0m",
      "\u001B[1;31mNameError\u001B[0m                                 Traceback (most recent call last)",
      "Cell \u001B[1;32mIn[5], line 6\u001B[0m\n\u001B[0;32m      4\u001B[0m fig \u001B[38;5;241m=\u001B[39m plt\u001B[38;5;241m.\u001B[39mfigure(figsize\u001B[38;5;241m=\u001B[39m(\u001B[38;5;241m10\u001B[39m, \u001B[38;5;241m10\u001B[39m), dpi\u001B[38;5;241m=\u001B[39m\u001B[38;5;241m100\u001B[39m)\n\u001B[0;32m      5\u001B[0m \u001B[38;5;66;03m# 创建坐标网格\u001B[39;00m\n\u001B[1;32m----> 6\u001B[0m x \u001B[38;5;241m=\u001B[39m np\u001B[38;5;241m.\u001B[39mlinspace(\u001B[38;5;241m-\u001B[39m\u001B[43mwfo\u001B[49m\u001B[38;5;241m.\u001B[39mshape[\u001B[38;5;241m1\u001B[39m] \u001B[38;5;241m/\u001B[39m\u001B[38;5;241m/\u001B[39m \u001B[38;5;241m2\u001B[39m, wfo\u001B[38;5;241m.\u001B[39mshape[\u001B[38;5;241m1\u001B[39m] \u001B[38;5;241m/\u001B[39m\u001B[38;5;241m/\u001B[39m \u001B[38;5;241m2\u001B[39m, wfo\u001B[38;5;241m.\u001B[39mshape[\u001B[38;5;241m1\u001B[39m]) \u001B[38;5;241m*\u001B[39m sampling\n\u001B[0;32m      7\u001B[0m y \u001B[38;5;241m=\u001B[39m np\u001B[38;5;241m.\u001B[39mlinspace(\u001B[38;5;241m-\u001B[39mwfo\u001B[38;5;241m.\u001B[39mshape[\u001B[38;5;241m0\u001B[39m] \u001B[38;5;241m/\u001B[39m\u001B[38;5;241m/\u001B[39m \u001B[38;5;241m2\u001B[39m, wfo\u001B[38;5;241m.\u001B[39mshape[\u001B[38;5;241m0\u001B[39m] \u001B[38;5;241m/\u001B[39m\u001B[38;5;241m/\u001B[39m \u001B[38;5;241m2\u001B[39m, wfo\u001B[38;5;241m.\u001B[39mshape[\u001B[38;5;241m0\u001B[39m]) \u001B[38;5;241m*\u001B[39m sampling\n\u001B[0;32m      8\u001B[0m \u001B[38;5;66;03m# 调整坐标原点，使其位于图像中心\u001B[39;00m\n",
      "\u001B[1;31mNameError\u001B[0m: name 'wfo' is not defined"
     ]
    },
    {
     "data": {
      "text/plain": "<Figure size 1000x1000 with 0 Axes>"
     },
     "metadata": {},
     "output_type": "display_data"
    }
   ],
   "source": [
    "# 指定colorbar的最小值和最大值\n",
    "vmin = 0.0\n",
    "vmax = 1.0\n",
    "fig = plt.figure(figsize=(10, 10), dpi=100)\n",
    "# 创建坐标网格\n",
    "x = np.linspace(-wfo.shape[1] // 2, wfo.shape[1] // 2, wfo.shape[1]) * sampling\n",
    "y = np.linspace(-wfo.shape[0] // 2, wfo.shape[0] // 2, wfo.shape[0]) * sampling\n",
    "# 调整坐标原点，使其位于图像中心\n",
    "x -= x.mean()\n",
    "y -= y.mean()\n",
    "# 绘制图像\n",
    "im = plt.imshow(wfo, cmap='gray', extent=[x.min(), x.max(), y.min(), y.max()], origin='lower', vmin=vmin, vmax=vmax)\n",
    "plt.xlabel('X (meters)')\n",
    "plt.ylabel('Y (meters)')\n",
    "plt.title('成像仿真\\n' + text)\n",
    "# plt.colorbar()\n",
    "plt.colorbar(im, ticks=[vmin, vmax])"
   ]
  },
  {
   "cell_type": "markdown",
   "id": "8d57f3044bdf25c8",
   "metadata": {
    "collapsed": false
   },
   "source": [
    "## 反思与尝试\n",
    "成像的对比度很低，无法区分光斑和背景。考虑使用伽马变换校正图像；另外，是否可以通过检测第1级衍射来判断成像位置？"
   ]
  },
  {
   "cell_type": "code",
   "execution_count": null,
   "id": "47313565789c6712",
   "metadata": {
    "collapsed": false,
    "ExecuteTime": {
     "end_time": "2024-02-28T09:19:51.379259200Z",
     "start_time": "2024-02-28T09:19:51.366260500Z"
    }
   },
   "outputs": [],
   "source": [
    "import cv2\n",
    "import numpy as np\n",
    "import matplotlib.pyplot as plt\n",
    "\n",
    "# 读取图像并以灰度图格式加载\n",
    "image_cv = cv2.imread('Dataset\\FirstImgs\\sample1.bmp', cv2.IMREAD_GRAYSCALE)\n",
    "\n",
    "# 计算原始图像的直方图\n",
    "hist_original = cv2.calcHist([image_cv], [0], None, [256], [0, 256])\n",
    "\n",
    "# 伽马变换\n",
    "gamma = 1.5  # 伽马值，可根据需要调整\n",
    "gamma_image = np.power(image_cv / 255.0, gamma) * 255.0\n",
    "\n",
    "# 计算伽马变换后图像的直方图\n",
    "hist_gamma = cv2.calcHist([gamma_image.astype(np.uint8)], [0], None, [256], [0, 256])\n",
    "\n",
    "# 进行直方图均衡化\n",
    "equalized_image = cv2.equalizeHist(image_cv)\n",
    "\n",
    "# 计算均衡化后图像的直方图\n",
    "hist_equalized = cv2.calcHist([equalized_image], [0], None, [256], [0, 256])\n",
    "\n",
    "# 计算伽马变换+均衡化后图像\n",
    "equalized_gamma_image = cv2.equalizeHist(gamma_image.astype(np.uint8))\n",
    "\n",
    "# 计算伽马变换+均衡化后图像的直方图\n",
    "hist_equalized_gamma = cv2.calcHist([equalized_gamma_image], [0], None, [256], [0, 256])\n",
    "\n",
    "# 显示原始图像及其灰度直方图\n",
    "plt.figure(figsize=(12, 12))\n",
    "\n",
    "plt.subplot(4, 4, 1)\n",
    "plt.imshow(image_cv, cmap='gray')\n",
    "plt.title('Original Image')\n",
    "plt.axis('off')\n",
    "\n",
    "plt.subplot(4, 4, 2)\n",
    "plt.plot(hist_original)\n",
    "plt.title('Original Image Histogram')\n",
    "plt.xlabel('Pixel Value')\n",
    "plt.ylabel('Frequency')\n",
    "\n",
    "# 显示伽马变换后的图像及其灰度直方图\n",
    "plt.subplot(4, 4, 5)\n",
    "plt.imshow(gamma_image, cmap='gray')\n",
    "plt.title('Gamma Transformed Image')\n",
    "plt.axis('off')\n",
    "\n",
    "plt.subplot(4, 4, 6)\n",
    "plt.plot(hist_gamma)\n",
    "plt.title('Gamma Transformed Image Histogram')\n",
    "plt.xlabel('Pixel Value')\n",
    "plt.ylabel('Frequency')\n",
    "\n",
    "# 显示直方图均衡化后的图像及其灰度直方图\n",
    "plt.subplot(4, 4, 9)\n",
    "plt.imshow(equalized_image, cmap='gray')\n",
    "plt.title('Equalized Image')\n",
    "plt.axis('off')\n",
    "\n",
    "plt.subplot(4, 4, 10)\n",
    "plt.plot(hist_equalized)\n",
    "plt.title('Equalized Image Histogram')\n",
    "plt.xlabel('Pixel Value')\n",
    "plt.ylabel('Frequency')\n",
    "\n",
    "# 显示伽马变换+直方图均衡化后的图像及其灰度直方图\n",
    "plt.subplot(4, 4, 13)\n",
    "plt.imshow(equalized_gamma_image, cmap='gray')\n",
    "plt.title('Gamma Equalized Image')\n",
    "plt.axis('off')\n",
    "\n",
    "plt.subplot(4, 4, 14)\n",
    "plt.plot(hist_equalized_gamma)\n",
    "plt.title('Gamma Equalized Image Histogram')\n",
    "plt.xlabel('Pixel Value')\n",
    "plt.ylabel('Frequency')\n",
    "\n",
    "plt.tight_layout()\n",
    "plt.show()\n"
   ]
  },
  {
   "cell_type": "code",
   "execution_count": null,
   "id": "fa8d6d76",
   "metadata": {
    "ExecuteTime": {
     "start_time": "2024-02-28T09:19:51.368259400Z"
    }
   },
   "outputs": [],
   "source": [
    "import numpy as np\n",
    "import matplotlib.pyplot as plt\n",
    "from mpl_toolkits.mplot3d import Axes3D\n",
    "\n",
    "# 读取并可视化三张 BMP 图像\n",
    "for i in range(1, 4):\n",
    "    # 生成文件名 sample1.bmp, sample2.bmp, sample3.bmp\n",
    "    filename = f'sample{i}.bmp'\n",
    "\n",
    "    # 读取图像\n",
    "    image = plt.imread(filename)\n",
    "\n",
    "    # 获取图像的形状\n",
    "    height, width = image.shape\n",
    "\n",
    "    # 创建坐标网格\n",
    "    x = np.arange(0, width)\n",
    "    y = np.arange(0, height)\n",
    "    x, y = np.meshgrid(x, y)\n",
    "\n",
    "    # 创建一个三维图形\n",
    "    fig = plt.figure()\n",
    "    ax = fig.add_subplot(111, projection='3d')\n",
    "\n",
    "    # 绘制三维图形\n",
    "    ax.plot_surface(x, y, image, cmap='viridis')\n",
    "\n",
    "    # 设置坐标轴标签\n",
    "    ax.set_xlabel('X')\n",
    "    ax.set_ylabel('Y')\n",
    "    ax.set_zlabel('Intensity')\n",
    "\n",
    "    # 显示图形\n",
    "    plt.title(f'3D Visualization of {filename}')\n",
    "    plt.show()\n"
   ]
  },
  {
   "cell_type": "code",
   "execution_count": null,
   "id": "ee1a8f9add039c19",
   "metadata": {
    "collapsed": false,
    "ExecuteTime": {
     "start_time": "2024-02-28T09:19:51.369260200Z"
    }
   },
   "outputs": [],
   "source": [
    "import os\n",
    "import matplotlib.pyplot as plt\n",
    "from mpl_toolkits.mplot3d import Axes3D\n",
    "import numpy as np\n",
    "\n",
    "# 定义一个函数，用于读取图像并进行3D可视化\n",
    "def visualize_images_in_folder(folder_path, folder_name):\n",
    "    # 获取文件夹中的图像文件\n",
    "    image_files = [f for f in os.listdir(folder_path) if f.endswith(\".bmp\")]\n",
    "\n",
    "    # 创建一个新的3D图形\n",
    "    fig = plt.figure(figsize=(30, 10))  # 调整figure大小\n",
    "\n",
    "    # 循环处理文件夹中的每个图像\n",
    "    for i, image_file in enumerate(image_files):\n",
    "        # 构建图像文件的完整路径\n",
    "        image_path = os.path.join(folder_path, image_file)\n",
    "\n",
    "        # 读入图像\n",
    "        image = plt.imread(image_path)\n",
    "\n",
    "        # 获取图像的高度和宽度\n",
    "        height, width = image.shape\n",
    "\n",
    "        # 创建网格\n",
    "        x = np.arange(0, width, 1)\n",
    "        y = np.arange(0, height, 1)\n",
    "        X, Y = np.meshgrid(x, y)\n",
    "\n",
    "        # 创建3D坐标网格\n",
    "        Z = image\n",
    "\n",
    "        # 创建3D子图\n",
    "        ax = fig.add_subplot(1, len(image_files), i+1, projection='3d')\n",
    "\n",
    "        # 绘制3D表面\n",
    "        surf = ax.plot_surface(X, Y, Z, cmap='viridis')\n",
    "\n",
    "        # 设置Z轴刻度范围\n",
    "        ax.set_zlim(0, 20)\n",
    "\n",
    "        # 设置图形标题\n",
    "        ax.set_title(f\"{folder_name}/{image_file}\")\n",
    "\n",
    "    # 显示图形\n",
    "    plt.show()\n",
    "\n",
    "# 定义文件夹路径\n",
    "base_folder = r'D:\\Projects\\Python\\SimulationForPinhole\\originImgs'\n",
    "folder_names = ['sample1', 'sample2', 'sample3']\n",
    "\n",
    "# 遍历每个文件夹并可视化图像\n",
    "for folder_name in folder_names:\n",
    "    folder_path = os.path.join(base_folder, folder_name)\n",
    "    visualize_images_in_folder(folder_path, folder_name)\n"
   ]
  },
  {
   "cell_type": "code",
   "execution_count": 6,
   "id": "7d75860afe97c586",
   "metadata": {
    "ExecuteTime": {
     "start_time": "2024-02-28T09:19:51.377259600Z"
    }
   },
   "outputs": [
    {
     "name": "stdout",
     "output_type": "stream",
     "text": [
      "sample11.bmp中没有灰度值大于阈值的区域！\n",
      "sample12.bmp中没有灰度值大于阈值的区域！\n"
     ]
    },
    {
     "data": {
      "text/plain": "<Figure size 640x480 with 1 Axes>",
      "image/png": "[encoded data removed]"
     },
     "metadata": {},
     "output_type": "display_data"
    },
    {
     "ename": "TypeError",
     "evalue": "'>' not supported between instances of 'NoneType' and 'int'",
     "output_type": "error",
     "traceback": [
      "\u001B[1;31m---------------------------------------------------------------------------\u001B[0m",
      "\u001B[1;31mTypeError\u001B[0m                                 Traceback (most recent call last)",
      "Cell \u001B[1;32mIn[6], line 44\u001B[0m\n\u001B[0;32m     41\u001B[0m         image_path \u001B[38;5;241m=\u001B[39m os\u001B[38;5;241m.\u001B[39mpath\u001B[38;5;241m.\u001B[39mjoin(base_folder, filename)\n\u001B[0;32m     42\u001B[0m         process_and_display_image(image_path)\n\u001B[1;32m---> 44\u001B[0m \u001B[43mprocess_and_display_image\u001B[49m\u001B[43m(\u001B[49m\u001B[38;5;124;43m\"\u001B[39;49m\u001B[38;5;124;43msample1big.bmp\u001B[39;49m\u001B[38;5;124;43m\"\u001B[39;49m\u001B[43m)\u001B[49m\n",
      "Cell \u001B[1;32mIn[6], line 14\u001B[0m, in \u001B[0;36mprocess_and_display_image\u001B[1;34m(image_path)\u001B[0m\n\u001B[0;32m     12\u001B[0m red_threshold \u001B[38;5;241m=\u001B[39m \u001B[38;5;241m5\u001B[39m\n\u001B[0;32m     13\u001B[0m image_red \u001B[38;5;241m=\u001B[39m np\u001B[38;5;241m.\u001B[39mzeros_like(image)\n\u001B[1;32m---> 14\u001B[0m image_red[\u001B[43mimage\u001B[49m\u001B[43m \u001B[49m\u001B[38;5;241;43m>\u001B[39;49m\u001B[43m \u001B[49m\u001B[43mred_threshold\u001B[49m] \u001B[38;5;241m=\u001B[39m \u001B[38;5;241m255\u001B[39m\n\u001B[0;32m     16\u001B[0m \u001B[38;5;66;03m# 寻找红色区域的中心点坐标\u001B[39;00m\n\u001B[0;32m     17\u001B[0m contours, _ \u001B[38;5;241m=\u001B[39m cv2\u001B[38;5;241m.\u001B[39mfindContours(image_red, cv2\u001B[38;5;241m.\u001B[39mRETR_EXTERNAL, cv2\u001B[38;5;241m.\u001B[39mCHAIN_APPROX_SIMPLE)\n",
      "\u001B[1;31mTypeError\u001B[0m: '>' not supported between instances of 'NoneType' and 'int'"
     ]
    }
   ],
   "source": [
    "import os\n",
    "import cv2\n",
    "import numpy as np\n",
    "import matplotlib.pyplot as plt\n",
    "\n",
    "# 定义一个函数，用于处理图像并显示\n",
    "def process_and_display_image(image_path):\n",
    "    # 读入图像\n",
    "    image = cv2.imread(image_path, cv2.IMREAD_GRAYSCALE)\n",
    "\n",
    "    # 处理图像：将灰度值大于5的像素设为白色\n",
    "    red_threshold = 5\n",
    "    image_red = np.zeros_like(image)\n",
    "    image_red[image > red_threshold] = 255\n",
    "\n",
    "    # 寻找红色区域的中心点坐标\n",
    "    contours, _ = cv2.findContours(image_red, cv2.RETR_EXTERNAL, cv2.CHAIN_APPROX_SIMPLE)\n",
    "    if contours:\n",
    "        # 获取红色区域的中心坐标\n",
    "        moments = cv2.moments(contours[0])\n",
    "        if moments[\"m00\"] != 0:\n",
    "            center_x = int(moments[\"m10\"] / moments[\"m00\"])\n",
    "            center_y = int(moments[\"m01\"] / moments[\"m00\"])\n",
    "            # 在图像上显示中心点坐标\n",
    "            cv2.circle(image_red, (center_x, center_y), 20, 255, -1)\n",
    "            # 显示图像\n",
    "            plt.imshow(image_red, cmap='gray')\n",
    "            plt.title(\"Processed Image: \"+os.path.basename(image_path))\n",
    "            plt.show()\n",
    "        else:\n",
    "            print(os.path.basename(image_path)+\"中没有灰度值大于阈值的区域！\")\n",
    "    else:\n",
    "        print(os.path.basename(image_path)+\"中没有灰度值大于阈值的区域！\")\n",
    "\n",
    "# 定义文件夹路径\n",
    "base_folder = r'D:\\Projects\\Python\\SimulationForPinhole\\originImgs\\sample1'  # 更改为您的文件夹路径\n",
    "\n",
    "# 遍历文件夹中的图像文件并处理显示\n",
    "for filename in os.listdir(base_folder):\n",
    "    if filename.endswith(\".bmp\"):\n",
    "        image_path = os.path.join(base_folder, filename)\n",
    "        process_and_display_image(image_path)\n",
    "\n",
    "process_and_display_image(\"sample1big.bmp\")"
   ]
  },
  {
   "cell_type": "code",
   "execution_count": null,
   "id": "814627b0",
   "metadata": {
    "ExecuteTime": {
     "end_time": "2024-02-28T09:19:52.507991900Z",
     "start_time": "2024-02-28T09:19:52.482992300Z"
    }
   },
   "outputs": [],
   "source": [
    "import cv2\n",
    "import numpy as np\n",
    "import matplotlib.pyplot as plt\n",
    "from mpl_toolkits.mplot3d import Axes3D\n",
    "\n",
    "# 读入图像\n",
    "image = cv2.imread(\"sample1big.bmp\", cv2.IMREAD_GRAYSCALE)\n",
    "\n",
    "# 伽马变换参数\n",
    "gamma = 1.5  # 可根据需要调整伽马值\n",
    "\n",
    "# 对图像进行伽马变换\n",
    "gamma_corrected_image = np.power(image, gamma).astype(np.uint8)\n",
    "\n",
    "# 显示伽马变换后的图像\n",
    "plt.figure(figsize=(8, 4))\n",
    "plt.subplot(121)\n",
    "plt.imshow(image, cmap='gray')\n",
    "plt.title(\"原始图像\")\n",
    "\n",
    "plt.subplot(122)\n",
    "plt.imshow(gamma_corrected_image, cmap='gray')\n",
    "plt.title(\"伽马变换后\")\n",
    "\n",
    "# 3D可视化\n",
    "# 获取图像的高度和宽度\n",
    "height, width = gamma_corrected_image.shape\n",
    "\n",
    "# 创建网格\n",
    "x = np.arange(0, width, 1)\n",
    "y = np.arange(0, height, 1)\n",
    "X, Y = np.meshgrid(x, y)\n",
    "\n",
    "# 创建3D坐标网格\n",
    "Z = gamma_corrected_image\n",
    "\n",
    "# 创建3D图形\n",
    "fig = plt.figure()\n",
    "ax = fig.add_subplot(111, projection='3d')\n",
    "\n",
    "# 绘制3D表面\n",
    "surf = ax.plot_surface(X, Y, Z, cmap='viridis')\n",
    "\n",
    "# 设置Z轴刻度范围\n",
    "ax.set_zlim(0, 255)\n",
    "\n",
    "# 设置图形标题\n",
    "ax.set_title(\"3D Visualization of Gamma Corrected Image\")\n",
    "\n",
    "# 显示图形\n",
    "plt.show()\n",
    "\n",
    "process_and_display_image(\"sample1big.bmp\")"
   ]
  },
  {
   "cell_type": "markdown",
   "id": "1d885901",
   "metadata": {},
   "source": [
    "# 结果分析\n",
    "\n",
    "- 对于针孔样本sample1，在原图上裁切出更大的区域后，即使经过伽马变换，仍然看不到亮度高的区域（主极大），更别提定位次级大，，，在10um的尺度上，衍射现象应该是很明显的，但是衍射图样的光强可能太弱了\n",
    "- 按照0.067mm的分辨率，次级大直径60mm，应该有1400个像素，但完全观察不到，，，\n",
    "- 可能现场情况完全不适合使用夫琅和费衍射建模，光源不是平行光，可能小孔成像模型更加合适\n",
    "- 可是小孔成像成的是什么的像？光源？光源宽度大概有10cm，那么成像的大小应该是50cm甚至更大，但是成像也观察不到这种现象，，但是能观察到孔越小像越大的衍射效应。"
   ]
  },
  {
   "cell_type": "markdown",
   "id": "d99aeb23",
   "metadata": {},
   "source": [
    "# 数据集存在问题"
   ]
  },
  {
   "cell_type": "code",
   "execution_count": null,
   "id": "aa769eea",
   "metadata": {
    "ExecuteTime": {
     "start_time": "2024-02-28T09:19:52.484992300Z"
    }
   },
   "outputs": [],
   "source": [
    "import cv2\n",
    "\n",
    "# 读取两张灰度图像\n",
    "image1 = cv2.imread('originImgs/sample1/sample13.bmp', cv2.IMREAD_GRAYSCALE)\n",
    "image2 = cv2.imread('originImgs/sample3/sample33.bmp', cv2.IMREAD_GRAYSCALE)\n",
    "\n",
    "# 检查图像是否成功加载\n",
    "if image1 is None or image2 is None:\n",
    "    print(\"无法读取图像\")\n",
    "else:\n",
    "    # 确保两个图像具有相同的尺寸\n",
    "    if image1.shape == image2.shape:\n",
    "        # 检查两张图像的像素值是否一致\n",
    "        if (image1 == image2).all():\n",
    "            print(\"两张图像一样\")\n",
    "        else:\n",
    "            # 计算图像差\n",
    "            difference = cv2.absdiff(image1, image2)\n",
    "            \n",
    "            # 显示原始图像和差异图像\n",
    "            cv2.imshow('Image 1', image1)\n",
    "            cv2.imshow('Image 2', image2)\n",
    "            cv2.imshow('Difference', difference)\n",
    "            \n",
    "            cv2.waitKey(0)\n",
    "            cv2.destroyAllWindows()\n",
    "    else:\n",
    "        print(\"图像尺寸不匹配\")"
   ]
  },
  {
   "cell_type": "code",
   "execution_count": null,
   "id": "07807854",
   "metadata": {
    "ExecuteTime": {
     "start_time": "2024-02-28T09:19:52.485993200Z"
    }
   },
   "outputs": [],
   "source": [
    "import cv2\n",
    "import numpy as np\n",
    "import matplotlib.pyplot as plt\n",
    "\n",
    "# 读取两张灰度图像\n",
    "image1 = cv2.imread('Dataset\\FirstImgs\\sample1\\sample13.bmp', cv2.IMREAD_GRAYSCALE)\n",
    "image2 = cv2.imread('Dataset\\FirstImgs\\sample3\\sample33.bmp', cv2.IMREAD_GRAYSCALE)\n",
    "\n",
    "# 检查图像是否成功加载\n",
    "if image1 is None or image2 is None:\n",
    "    print(\"无法读取图像\")\n",
    "else:\n",
    "    # 确保两个图像具有相同的尺寸\n",
    "    if image1.shape == image2.shape:\n",
    "        # 计算图像差\n",
    "        difference = cv2.absdiff(image1, image2)\n",
    "        \n",
    "        # 显示原始图像和差异图像\n",
    "        fig = plt.figure()\n",
    "        \n",
    "        # 2D差异图\n",
    "        ax1 = fig.add_subplot(121)\n",
    "        ax1.set_title('2D Difference')\n",
    "        ax1.imshow(difference, cmap='gray')\n",
    "        \n",
    "        # 3D差异图\n",
    "        ax2 = fig.add_subplot(122, projection='3d')\n",
    "        ax2.set_title('3D Difference')\n",
    "        X, Y = np.meshgrid(range(difference.shape[1]), range(difference.shape[0]))\n",
    "        ax2.plot_surface(X, Y, difference, cmap='viridis')\n",
    "        \n",
    "        plt.show()\n",
    "    else:\n",
    "        print(\"图像尺寸不匹配\")"
   ]
  }
 ],
 "metadata": {
  "kernelspec": {
   "display_name": "Python 3",
   "language": "python",
   "name": "python3"
  },
  "language_info": {
   "codemirror_mode": {
    "name": "ipython",
    "version": 3
   },
   "file_extension": ".py",
   "mimetype": "text/x-python",
   "name": "python",
   "nbconvert_exporter": "python",
   "pygments_lexer": "ipython3",
   "version": "3.11.5"
  }
 },
 "nbformat": 4,
 "nbformat_minor": 5
}
