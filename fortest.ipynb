{
 "cells": [
  {
   "cell_type": "code",
   "execution_count": null,
   "id": "initial_id",
   "metadata": {
    "ExecuteTime": {
     "end_time": "2023-11-12T08:35:23.798785600Z",
     "start_time": "2023-11-12T08:35:23.786785800Z"
    },
    "collapsed": false
   },
   "outputs": [],
   "source": [
    "import re\n",
    "\n",
    "image_path = \"Dataset/ZZMImgs/MediumPrecisionTest1_14.98/10.bmp\"\n",
    "\n",
    "diameter = float(re.search(r'(\\d+)', image_path.split('/')[-1]).group())\n",
    "# 输出结果\n",
    "print(diameter)\n",
    "\n",
    "precision = float(image_path.split('/')[-2].split('_')[-1])\n",
    "print(precision)"
   ]
  },
  {
   "cell_type": "code",
   "execution_count": null,
   "id": "62a360b8c9b94ce5",
   "metadata": {
    "ExecuteTime": {
     "end_time": "2023-11-16T07:11:20.632417500Z",
     "start_time": "2023-11-16T07:11:20.618417600Z"
    },
    "collapsed": false
   },
   "outputs": [],
   "source": [
    "import os\n",
    "\n",
    "\n",
    "def load_files_in_folder(folder_path):\n",
    "    # 获取文件夹中的所有文件\n",
    "    files = os.listdir(folder_path)\n",
    "\n",
    "    # 循环加载文件\n",
    "    for file_name in files:\n",
    "        # 拼接文件的完整路径\n",
    "        file_path = os.path.join(folder_path, file_name)\n",
    "\n",
    "        # 判断是否为文件（非文件夹）\n",
    "        if os.path.isfile(file_path):\n",
    "            # 在这里执行你的文件加载操作，例如读取文件内容\n",
    "            with open(file_path, 'r') as file:\n",
    "                content = file.read()\n",
    "                print(f\"Loaded content from {file_path}:\\n{content}\")\n",
    "\n",
    "\n",
    "# 指定文件夹路径\n",
    "folder_path = 'Dataset/ZZMImgs'\n",
    "\n",
    "# # 调用文件加载器\n",
    "# load_files_in_folder(folder_path)\n",
    "\n",
    "# 获取文件夹中的所有文件\n",
    "files = os.listdir(folder_path)\n",
    "print(files)\n",
    "# 循环加载文件\n",
    "for file_name in files:\n",
    "    # 拼接文件的完整路径\n",
    "    file_path = os.path.join(folder_path, file_name)\n",
    "    print(file_path)"
   ]
  },
  {
   "cell_type": "code",
   "execution_count": null,
   "id": "f1909536809e5853",
   "metadata": {
    "ExecuteTime": {
     "end_time": "2023-11-12T09:28:39.849794Z",
     "start_time": "2023-11-12T09:12:27.913901400Z"
    },
    "collapsed": false
   },
   "outputs": [],
   "source": [
    "import cv2\n",
    "import matplotlib.pyplot as plt\n",
    "\n",
    "image_path = \"Dataset/ZZMImgs/HighPrecisionTest1_10.96/10.bmp\"\n",
    "# 读取灰度图像\n",
    "image = cv2.imread(image_path, cv2.IMREAD_GRAYSCALE)\n",
    "# 检查图像是否成功读取\n",
    "if image is None:\n",
    "    print(\"Error: Could not read the image.\")\n",
    "    exit()\n",
    "\n",
    "plt.imshow(image, cmap='gray'), plt.title('origin image'), plt.show()\n"
   ]
  },
  {
   "cell_type": "code",
   "execution_count": null,
   "id": "aea4137671d9769d",
   "metadata": {
    "collapsed": false
   },
   "outputs": [],
   "source": [
    "\n",
    "\n",
    "\n",
    "def convert_to_grayscale_8bit(input_path, output_path):\n",
    "    # 打开彩色BMP图片\n",
    "    input_image = Image.open(input_path)\n",
    "\n",
    "    # 将图片转为灰度\n",
    "    grayscale_image = input_image.convert('L')\n",
    "\n",
    "    # 将灰度图转为8位深度\n",
    "    grayscale_8bit_image = grayscale_image.point(lambda p: p // 256 * 256 // 2)\n",
    "\n",
    "    # 保存结果\n",
    "    grayscale_8bit_image.save(output_path)\n",
    "\n",
    "\n",
    "# 用法示例\n",
    "input_path = 'input_color_image.bmp'\n",
    "output_path = 'output_grayscale_8bit.bmp'\n",
    "\n",
    "convert_to_grayscale_8bit(input_path, output_path)\n"
   ]
  },
  {
   "cell_type": "code",
   "execution_count": null,
   "id": "e3b496056eace299",
   "metadata": {
    "ExecuteTime": {
     "end_time": "2023-11-12T10:16:10.152400700Z",
     "start_time": "2023-11-12T10:16:10.005350900Z"
    },
    "collapsed": false
   },
   "outputs": [],
   "source": [
    "import numpy as np\n",
    "import matplotlib.pyplot as plt\n",
    "from scipy.optimize import curve_fit\n",
    "\n",
    "\n",
    "# 定义一个要拟合的函数，例如，这里使用二次多项式\n",
    "def quadratic_function(x, a, b, c):\n",
    "    return a * x ** 2 + b * x + c\n",
    "\n",
    "\n",
    "# 生成示例数据\n",
    "x_data = np.array([1, 2, 3, 4, 5])\n",
    "y_data = np.array([2.3, 5.1, 9.0, 16.2, 25.8])\n",
    "\n",
    "# 使用curve_fit进行曲线拟合\n",
    "popt, pcov = curve_fit(quadratic_function, x_data, y_data)\n",
    "\n",
    "# 生成拟合曲线的数据\n",
    "x_fit = np.linspace(min(x_data), max(x_data), 100)\n",
    "y_fit = quadratic_function(x_fit, *popt)\n",
    "\n",
    "# 绘制原始数据点\n",
    "plt.scatter(x_data, y_data, label='Data Points')\n",
    "\n",
    "# 绘制拟合曲线\n",
    "plt.plot(x_fit, y_fit, 'r-', label='Fit Curve')\n",
    "\n",
    "# 显示图例\n",
    "plt.legend()\n",
    "\n",
    "# 显示图像\n",
    "plt.show()\n"
   ]
  },
  {
   "cell_type": "code",
   "execution_count": null,
   "id": "3f63def8ce0728d7",
   "metadata": {
    "ExecuteTime": {
     "end_time": "2023-11-12T10:29:21.994641600Z",
     "start_time": "2023-11-12T10:29:21.979129200Z"
    },
    "collapsed": false
   },
   "outputs": [],
   "source": [
    "for i in range(4):\n",
    "    print(i)"
   ]
  },
  {
   "cell_type": "code",
   "execution_count": null,
   "id": "77f9985f42a88850",
   "metadata": {
    "ExecuteTime": {
     "end_time": "2023-11-13T02:43:22.588617100Z",
     "start_time": "2023-11-13T02:43:22.504090600Z"
    },
    "collapsed": false
   },
   "outputs": [],
   "source": [
    "import matplotlib.pyplot as plt\n",
    "import numpy as np\n",
    "\n",
    "# 示例数据\n",
    "x = np.arange(1, 6)\n",
    "y = x ** 2\n",
    "\n",
    "# 示例文本数组\n",
    "areas = ['A', 'B', 'C', 'D', 'E']\n",
    "\n",
    "# 创建图形\n",
    "plt.figure()\n",
    "\n",
    "# 绘制折线图\n",
    "plt.plot(x, y, label='Curve')\n",
    "\n",
    "# 添加图例\n",
    "plt.legend()\n",
    "\n",
    "# 在图的下方添加文本\n",
    "text = '\\n'.join(f'{area}: {value}' for area, value in zip(areas, y))\n",
    "plt.text(0, -10, text, ha='center', va='center', fontsize=10)\n",
    "\n",
    "# 显示图像\n",
    "plt.show()\n"
   ]
  },
  {
   "cell_type": "code",
   "execution_count": null,
   "id": "610543de4c6ebf4",
   "metadata": {
    "ExecuteTime": {
     "end_time": "2023-11-13T03:04:29.517401200Z",
     "start_time": "2023-11-13T03:04:29.351750800Z"
    },
    "collapsed": false
   },
   "outputs": [],
   "source": [
    "import matplotlib.pyplot as plt\n",
    "import numpy as np\n",
    "\n",
    "# 示例数据\n",
    "x = np.linspace(0, 2 * np.pi, 100)\n",
    "y1 = np.sin(x)\n",
    "y2 = np.cos(x)\n",
    "\n",
    "# 创建图形\n",
    "plt.figure()\n",
    "\n",
    "# 绘制第一条折线图\n",
    "plt.plot(x, y1, label='Sine Curve')\n",
    "\n",
    "# 绘制第二条折线图\n",
    "plt.plot(x, y2, label='Cosine Curve')\n",
    "\n",
    "# 添加图例\n",
    "plt.legend()\n",
    "\n",
    "# 显示图像\n",
    "plt.show()\n"
   ]
  },
  {
   "cell_type": "code",
   "execution_count": null,
   "id": "46d2ca040246da86",
   "metadata": {
    "ExecuteTime": {
     "end_time": "2023-11-13T03:05:42.821002200Z",
     "start_time": "2023-11-13T03:05:42.633479800Z"
    },
    "collapsed": false
   },
   "outputs": [],
   "source": [
    "import matplotlib.pyplot as plt\n",
    "import numpy as np\n",
    "\n",
    "# 示例数据\n",
    "x = np.linspace(0, 2 * np.pi, 100)\n",
    "y_data = [np.sin(x), np.cos(x), np.sin(2 * x)]\n",
    "\n",
    "# 创建图形\n",
    "plt.figure()\n",
    "\n",
    "# 使用 for 循环绘制多条折线图\n",
    "for i, y in enumerate(y_data):\n",
    "    label = f'Curve {i + 1}'  # 根据索引生成标签\n",
    "    plt.plot(x, y, label=label)\n",
    "\n",
    "# 添加图例\n",
    "plt.legend()\n",
    "\n",
    "# 显示图像\n",
    "plt.show()\n"
   ]
  },
  {
   "cell_type": "code",
   "execution_count": null,
   "id": "28578c783a80d313",
   "metadata": {
    "ExecuteTime": {
     "end_time": "2023-11-13T03:47:04.912963800Z",
     "start_time": "2023-11-13T03:47:04.884954300Z"
    },
    "collapsed": false
   },
   "outputs": [],
   "source": [
    "dataset_path = 'Dataset/ZZMImgs'\n",
    "# 获取文件夹中的所有文件\n",
    "dirs = os.listdir(dataset_path)\n",
    "print(dirs)"
   ]
  },
  {
   "cell_type": "code",
   "execution_count": null,
   "id": "d3be880543d2e4a3",
   "metadata": {
    "ExecuteTime": {
     "end_time": "2023-11-13T06:58:06.350384800Z",
     "start_time": "2023-11-13T06:58:06.335378700Z"
    },
    "collapsed": false
   },
   "outputs": [],
   "source": [
    "import pandas as pd\n",
    "import numpy as np\n",
    "\n",
    "# 设置随机种子，以便结果可重复\n",
    "np.random.seed(42)\n",
    "\n",
    "# 生成随机数据\n",
    "data = {\n",
    "    'Name': [f'Person_{i}' for i in range(1, 6)],\n",
    "    'Age': np.random.randint(20, 40, size=5),\n",
    "    'City': np.random.choice(['New York', 'San Francisco', 'Los Angeles'], size=5)\n",
    "}\n",
    "\n",
    "# 创建 DataFrame\n",
    "df = pd.DataFrame(data)\n",
    "\n",
    "# 显示生成的 DataFrame\n",
    "print(df)\n",
    "\n",
    "for index, row in df.iterrows():\n",
    "    print(index)"
   ]
  },
  {
   "cell_type": "code",
   "execution_count": null,
   "id": "799ae46719ab90a4",
   "metadata": {
    "ExecuteTime": {
     "end_time": "2023-11-13T06:54:54.562460100Z",
     "start_time": "2023-11-13T06:54:54.551460200Z"
    },
    "collapsed": false
   },
   "outputs": [],
   "source": [
    "import pandas as pd\n",
    "\n",
    "# 创建一个示例 DataFrame\n",
    "data = {\n",
    "    'Name': ['Alice', 'Bob', 'Charlie'],\n",
    "    'Age': [25, 30, 35],\n",
    "    'City': ['New York', 'San Francisco', 'Los Angeles']\n",
    "}\n",
    "df = pd.DataFrame(data)\n",
    "\n",
    "# 获取列索引的值\n",
    "column_index_values = df.columns.values\n",
    "\n",
    "# 打印结果\n",
    "print(\"列索引的值:\", column_index_values)\n",
    "\n",
    "# 通过迭代获取每个列名\n",
    "print(\"通过迭代获取每个列名:\")\n",
    "for column_name in df.columns:\n",
    "    print(column_name)\n"
   ]
  },
  {
   "cell_type": "code",
   "execution_count": null,
   "id": "a770da3709f89362",
   "metadata": {
    "ExecuteTime": {
     "end_time": "2023-11-13T07:14:37.614404200Z",
     "start_time": "2023-11-13T07:14:37.584390400Z"
    },
    "collapsed": false
   },
   "outputs": [],
   "source": [
    "import pandas as pd\n",
    "\n",
    "# 创建一个示例 DataFrame\n",
    "data = {\n",
    "    'B': [1, 4, 7],\n",
    "    'A': [2, 5, 8],\n",
    "    'D': [3, 6, 9],\n",
    "    'C': [10, 11, 12]\n",
    "}\n",
    "df = pd.DataFrame(data)\n",
    "\n",
    "# 显示原始 DataFrame\n",
    "print(\"原始 DataFrame:\")\n",
    "print(df)\n",
    "\n",
    "# 按列索引升序排序\n",
    "df_sorted = df.sort_index(axis=1)\n",
    "\n",
    "# 显示排序后的 DataFrame\n",
    "print(\"\\n按列索引升序排序后的 DataFrame:\")\n",
    "print(df_sorted)\n"
   ]
  },
  {
   "cell_type": "code",
   "execution_count": null,
   "id": "de43f0a4f165b3e4",
   "metadata": {
    "ExecuteTime": {
     "end_time": "2023-11-17T07:08:42.229387600Z",
     "start_time": "2023-11-17T07:08:41.386603500Z"
    },
    "collapsed": false
   },
   "outputs": [],
   "source": [
    "\n",
    "import matplotlib.pyplot as plt\n",
    "\n",
    "# 创建两个figure\n",
    "fig1, ax1 = plt.subplots()\n",
    "fig2, ax2 = plt.subplots()\n",
    "\n",
    "# 假设有一个for循环，每次都在两个figure中画图\n",
    "for i in range(5):\n",
    "    # 在第一个figure中画图\n",
    "    ax1.plot([0, 1, 2], [i, i + 1, i + 2], label=f'Line {i}')\n",
    "    ax1.set_title('Figure 1')\n",
    "    ax1.legend()\n",
    "\n",
    "    # 在第二个figure中画图\n",
    "    ax2.plot([0, 1, 2], [i + 2, i + 1, i], label=f'Line {i}')\n",
    "    ax2.set_title('Figure 2')\n",
    "    ax2.legend()\n",
    "\n",
    "    # 每次循环保存一次图像\n",
    "    fig1.savefig(f'figure1_{i}.png')\n",
    "    fig2.savefig(f'figure2_{i}.png')\n",
    "\n",
    "# 显示图像\n",
    "plt.show()\n"
   ]
  },
  {
   "cell_type": "markdown",
   "id": "85cbd5708f4d2327",
   "metadata": {
    "collapsed": false
   },
   "source": []
  },
  {
   "cell_type": "code",
   "execution_count": null,
   "id": "8d9fb08a85d613bd",
   "metadata": {
    "collapsed": false
   },
   "outputs": [],
   "source": []
  },
  {
   "cell_type": "code",
   "execution_count": null,
   "id": "941543894d8ba626",
   "metadata": {
    "ExecuteTime": {
     "end_time": "2023-11-17T16:47:09.042983600Z",
     "start_time": "2023-11-17T16:47:09.032473100Z"
    },
    "collapsed": false
   },
   "outputs": [],
   "source": [
    "import pandas as pd\n",
    "\n",
    "# Sample data\n",
    "dirs = [\"dir1\", \"dir2\"]\n",
    "true_area_list = [[1, 2, 3], [4, 5, 6]]\n",
    "magnifications_1D_list = [[0.1, 0.2, 0.3], [0.4, 0.5, 0.6]]\n",
    "imgs = [\"img1\", \"img2\", \"img3\"]\n",
    "\n",
    "# Initialize an empty DataFrame\n",
    "result_df = pd.DataFrame()\n",
    "\n",
    "# Iterate over dirs\n",
    "for i, dir in enumerate(dirs):\n",
    "    # Create a DataFrame for the current dir\n",
    "    df_dir = pd.DataFrame(list(zip(magnifications_1D_list[i], true_area_list[i])),\n",
    "                          columns=[dir + 'mag', dir + 'area'],\n",
    "                          index=imgs)\n",
    "\n",
    "    # Concatenate along rows\n",
    "    result_df = pd.concat([result_df, df_dir], axis=1)\n",
    "\n",
    "# Display the result DataFrame\n",
    "print(result_df)\n"
   ]
  },
  {
   "cell_type": "code",
   "execution_count": null,
   "id": "f3cf0ec84e6df326",
   "metadata": {
    "collapsed": false
   },
   "outputs": [],
   "source": []
  },
  {
   "cell_type": "code",
   "execution_count": null,
   "id": "afe99359f14b5464",
   "metadata": {
    "ExecuteTime": {
     "end_time": "2023-11-20T12:42:10.707955300Z",
     "start_time": "2023-11-20T12:42:07.319466500Z"
    },
    "collapsed": false
   },
   "outputs": [],
   "source": [
    "import numpy as np\n",
    "from PIL import Image\n",
    "\n",
    "# 创建一个四通道的示例数组\n",
    "height, width = 256, 256\n",
    "four_channel_array = np.random.randint(0, 256, size=(height, width, 4), dtype=np.uint8)\n",
    "\n",
    "# 使用 Image.fromarray 创建图像\n",
    "rgba_image = Image.fromarray(four_channel_array, 'RGBA')\n",
    "\n",
    "# 显示图像\n",
    "rgba_image.show()\n"
   ]
  },
  {
   "cell_type": "code",
   "execution_count": 3,
   "id": "21be488f",
   "metadata": {},
   "outputs": [
    {
     "name": "stdout",
     "output_type": "stream",
     "text": [
      "File: ImagingDistance_225-ExposureTime_700-PowerdividedbyArea_757.5-Fnumber_1.4-Focal_8-CMOSPixelSize_2.4-CMOSQE_0.5\n",
      "Attributes:\n",
      "  ImagingDistance: 225\n",
      "  ExposureTime: 700\n",
      "  PowerdividedbyArea: 757.5\n",
      "  Fnumber: 1.4\n",
      "  Focal: 8\n",
      "  CMOSPixelSize: 2.4\n",
      "  CMOSQE: 0.5\n",
      "--------------------\n",
      "File: ImagingDistance_225-ExposureTime_7000-PowerdividedbyArea_757.5-Fnumber_1.4-Focal_8-CMOSPixelSize_2.4-CMOSQE_0.5\n",
      "Attributes:\n",
      "  ImagingDistance: 225\n",
      "  ExposureTime: 7000\n",
      "  PowerdividedbyArea: 757.5\n",
      "  Fnumber: 1.4\n",
      "  Focal: 8\n",
      "  CMOSPixelSize: 2.4\n",
      "  CMOSQE: 0.5\n",
      "--------------------\n",
      "File: ImagingDistance_225-ExposureTime_70000-PowerdividedbyArea_757.5-Fnumber_1.4-Focal_8-CMOSPixelSize_2.4-CMOSQE_0.5\n",
      "Attributes:\n",
      "  ImagingDistance: 225\n",
      "  ExposureTime: 70000\n",
      "  PowerdividedbyArea: 757.5\n",
      "  Fnumber: 1.4\n",
      "  Focal: 8\n",
      "  CMOSPixelSize: 2.4\n",
      "  CMOSQE: 0.5\n",
      "--------------------\n"
     ]
    }
   ],
   "source": [
    "import os\n",
    "\n",
    "# 文件夹路径\n",
    "folder_path = \"Dataset/ZZMImgs/forRegressionTrain\"\n",
    "\n",
    "# 初始化一个字典，用于保存解析后的文件名信息\n",
    "parsed_data = {}\n",
    "\n",
    "# 遍历文件夹中的文件\n",
    "for filename in os.listdir(folder_path):\n",
    "    # 拼接文件的完整路径\n",
    "    file_path = os.path.join(folder_path, filename)\n",
    "\n",
    "    # 去除文件名后缀\n",
    "    filename_without_extension, extension = os.path.splitext(filename)\n",
    "\n",
    "    # 解析文件名\n",
    "    attributes = filename_without_extension.split('-')\n",
    "    attribute_dict = {}\n",
    "\n",
    "    # 解析每个属性\n",
    "    for attribute in attributes:\n",
    "        key, value = attribute.split('_')\n",
    "        attribute_dict[key] = value\n",
    "\n",
    "    # 将解析后的结果保存到字典中\n",
    "    parsed_data[filename_without_extension] = attribute_dict\n",
    "\n",
    "# 打印解析后的字典\n",
    "for filename, attributes in parsed_data.items():\n",
    "    print(f\"File: {filename}\")\n",
    "    print(\"Attributes:\")\n",
    "    for key, value in attributes.items():\n",
    "        print(f\"  {key}: {value}\")\n",
    "    print(\"--------------------\")\n"
   ]
  },
  {
   "cell_type": "code",
   "outputs": [
    {
     "name": "stdout",
     "output_type": "stream",
     "text": [
      "3\n"
     ]
    }
   ],
   "source": [
    "a = [None, None, None]\n",
    "print(len(a))"
   ],
   "metadata": {
    "collapsed": false,
    "ExecuteTime": {
     "end_time": "2024-01-02T03:12:57.511387400Z",
     "start_time": "2024-01-02T03:12:57.503386900Z"
    }
   },
   "id": "5800911b0dcdab39",
   "execution_count": 1
  }
 ],
 "metadata": {
  "kernelspec": {
   "display_name": "Python 3",
   "language": "python",
   "name": "python3"
  },
  "language_info": {
   "codemirror_mode": {
    "name": "ipython",
    "version": 3
   },
   "file_extension": ".py",
   "mimetype": "text/x-python",
   "name": "python",
   "nbconvert_exporter": "python",
   "pygments_lexer": "ipython3",
   "version": "3.10.8"
  }
 },
 "nbformat": 4,
 "nbformat_minor": 5
}
